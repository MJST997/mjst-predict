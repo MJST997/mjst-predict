{
 "cells": [
  {
   "cell_type": "code",
   "execution_count": 2,
   "metadata": {},
   "outputs": [],
   "source": [
    "import torch\n",
    "import numpy as np\n",
    "from transformers import AutoTokenizer, AutoModel, Trainer, TrainingArguments\n",
    "from sklearn.model_selection import train_test_split\n",
    "from torch.utils.data import Dataset, DataLoader\n",
    "from sklearn.metrics import r2_score\n",
    "import pandas as pd"
   ]
  },
  {
   "cell_type": "code",
   "execution_count": null,
   "metadata": {},
   "outputs": [],
   "source": [
    "Bert_df = pd.read_csv(\"model_data.csv\")"
   ]
  },
  {
   "cell_type": "code",
   "execution_count": null,
   "metadata": {},
   "outputs": [],
   "source": [
    "class CustomTweetDataset(Dataset):\n",
    "    def __init__(self, tweets, features, labels, tokenizer, max_length):\n",
    "        self.tweets = tweets\n",
    "        self.features = features\n",
    "        self.labels = labels\n",
    "        self.tokenizer = tokenizer\n",
    "        self.max_length = max_length\n",
    "\n",
    "    def __len__(self):\n",
    "        return len(self.tweets)\n",
    "\n",
    "    def __getitem__(self, idx):\n",
    "        tweet = self.tweets[idx]\n",
    "        feature = self.features[idx]\n",
    "        label = self.labels[idx]\n",
    "\n",
    "        encoding = self.tokenizer.encode_plus(\n",
    "            tweet,\n",
    "            max_length=self.max_length,\n",
    "            padding='max_length',\n",
    "            truncation=True,\n",
    "            return_token_type_ids=False,\n",
    "            return_attention_mask=True,\n",
    "            return_tensors='pt',\n",
    "        )\n",
    "\n",
    "        return {\n",
    "            'tweet': tweet,\n",
    "            'input_ids': encoding['input_ids'].flatten(),\n",
    "            'attention_mask': encoding['attention_mask'].flatten(),\n",
    "            'features': torch.tensor(feature, dtype=torch.float),\n",
    "            'likes': torch.tensor(label, dtype=torch.float),\n",
    "        }\n",
    "\n",
    "\n",
    "def create_data_loader(df, tokenizer, max_length, batch_size):\n",
    "    dataset = CustomTweetDataset(\n",
    "        tweets=df.lemmatized_text.to_numpy(),\n",
    "        features=df.iloc[:, 0:-2].to_numpy(),\n",
    "        labels=df.like_count.to_numpy(),\n",
    "        tokenizer=tokenizer,\n",
    "        max_length=max_length,\n",
    "    )\n",
    "\n",
    "    return DataLoader(\n",
    "        dataset,\n",
    "        batch_size=batch_size,\n",
    "    )\n",
    "\n",
    "\n",
    "class BertweetRegressor(torch.nn.Module):\n",
    "    def __init__(self, bertweet_model, num_features, num_labels=1):\n",
    "        super(BertweetRegressor, self).__init__()\n",
    "        self.bertweet = bertweet_model\n",
    "        self.features_fc = torch.nn.Linear(num_features, num_features)\n",
    "        self.dropout = torch.nn.Dropout(0.1)\n",
    "        self.classifier = torch.nn.Linear(bertweet_model.config.hidden_size + num_features, num_labels)\n",
    "\n",
    "    def forward(self, input_ids, attention_mask, features):\n",
    "        bertweet_output = self.bertweet(input_ids=input_ids, attention_mask=attention_mask)\n",
    "        pooled_output = bertweet_output.pooler_output\n",
    "\n",
    "        features_output = self.features_fc(features)\n",
    "        features_output = torch.relu(features_output)\n",
    "\n",
    "        concat_output = torch.cat((pooled_output, features_output), 1)\n",
    "        concat_output = self.dropout(concat_output)\n",
    "\n",
    "        logits = self.classifier(concat_output)\n",
    "        return logits.squeeze()"
   ]
  },
  {
   "cell_type": "code",
   "execution_count": null,
   "metadata": {},
   "outputs": [],
   "source": [
    "# Load pre-trained BERTweet model and tokenizer\n",
    "tokenizer = AutoTokenizer.from_pretrained(\"vinai/bertweet-base\")\n",
    "bertweet_model = AutoModel.from_pretrained(\"vinai/bertweet-base\")\n",
    "\n"
   ]
  },
  {
   "cell_type": "code",
   "execution_count": null,
   "metadata": {},
   "outputs": [],
   "source": [
    "max_length = 128\n",
    "batch_size = 16\n",
    "num_features = len(Bert_df.columns)-2 # Number of additional features, excluding 'tweet' and 'likes' columns\n",
    "num_epochs = 10\n",
    "learning_rate = 2e-5\n",
    "device = torch.device(\"cuda\" if torch.cuda.is_available() else \"cpu\")"
   ]
  },
  {
   "cell_type": "code",
   "execution_count": null,
   "metadata": {},
   "outputs": [],
   "source": [
    "model = BertweetRegressor(bertweet_model, num_features)\n",
    "model.to(device)"
   ]
  },
  {
   "cell_type": "code",
   "execution_count": null,
   "metadata": {},
   "outputs": [],
   "source": [
    "train_df, val_df = train_test_split(Bert_df, test_size=0.2, random_state=42)"
   ]
  },
  {
   "cell_type": "code",
   "execution_count": null,
   "metadata": {},
   "outputs": [],
   "source": [
    "train_data_loader = create_data_loader(train_df, tokenizer, max_length, batch_size)\n",
    "val_data_loader = create_data_loader(val_df, tokenizer, max_length, batch_size)"
   ]
  },
  {
   "cell_type": "code",
   "execution_count": null,
   "metadata": {},
   "outputs": [],
   "source": [
    "optimizer = torch.optim.AdamW(model.parameters(), lr=learning_rate)\n",
    "loss_fn = torch.nn.MSELoss().to(device)\n",
    "scheduler = torch.optim.lr_scheduler.ReduceLROnPlateau(optimizer, mode='min', factor=0.1, patience=1, verbose=True)\n",
    "\n"
   ]
  },
  {
   "cell_type": "code",
   "execution_count": null,
   "metadata": {},
   "outputs": [],
   "source": [
    "for epoch in range(num_epochs):\n",
    "  model.train()\n",
    "  train_losses = []\n",
    "  for batch in train_data_loader:\n",
    "      optimizer.zero_grad()\n",
    "\n",
    "      input_ids = batch[\"input_ids\"].to(device)\n",
    "      attention_mask = batch[\"attention_mask\"].to(device)\n",
    "      features = batch[\"features\"].to(device)\n",
    "      likes = batch[\"likes\"].to(device)\n",
    "\n",
    "      outputs = model(input_ids=input_ids, attention_mask=attention_mask, features=features)\n",
    "      loss = loss_fn(outputs, likes)\n",
    "      train_losses.append(loss.item())\n",
    "\n",
    "      loss.backward()\n",
    "      optimizer.step()\n",
    "\n",
    "  train_loss = np.mean(train_losses)\n",
    "  print(f\"Epoch {epoch + 1}/{num_epochs} | Train Loss: {train_loss}\")\n",
    "\n",
    "  model.eval()\n",
    "  val_losses = []\n",
    "  val_predictions = []\n",
    "  val_actuals = []\n",
    "\n",
    "  with torch.no_grad():\n",
    "      for batch in val_data_loader:\n",
    "          input_ids = batch[\"input_ids\"].to(device)\n",
    "          attention_mask = batch[\"attention_mask\"].to(device)\n",
    "          features = batch[\"features\"].to(device)\n",
    "          likes = batch[\"likes\"].to(device)\n",
    "\n",
    "          outputs = model(input_ids=input_ids, attention_mask=attention_mask, features=features)\n",
    "          outputs_tensor = torch.tensor(outputs.cpu().numpy(), dtype=torch.float)\n",
    "          likes_tensor = torch.tensor(likes.cpu().numpy(), dtype=torch.float)\n",
    "          loss = loss_fn(outputs_tensor, likes_tensor)\n",
    "          val_losses.append(loss.item())\n",
    "\n",
    "          val_predictions.extend(outputs.cpu().numpy())\n",
    "          val_actuals.extend(likes.cpu().numpy())\n",
    "\n",
    "  val_loss = np.mean(val_losses)\n",
    "  print(f\"Epoch {epoch + 1}/{num_epochs} | Validation Loss: {val_loss}\")\n",
    "\n",
    "  scheduler.step(val_loss)"
   ]
  },
  {
   "cell_type": "code",
   "execution_count": 1,
   "metadata": {},
   "outputs": [
    {
     "name": "stdout",
     "output_type": "stream",
     "text": [
      "R2 Score: 0.24\n"
     ]
    }
   ],
   "source": [
    "# Calculate the R2 score\n",
    "# Calculate the R2 score\n",
    "val_predictions = np.array(val_predictions)\n",
    "val_actuals = np.array(val_actuals)\n",
    "r2 = r2_score(val_actuals, val_predictions)\n",
    "print(f\"R2 Score: {r2}\")"
   ]
  }
 ],
 "metadata": {
  "kernelspec": {
   "display_name": "Python 3",
   "language": "python",
   "name": "python3"
  },
  "language_info": {
   "codemirror_mode": {
    "name": "ipython",
    "version": 3
   },
   "file_extension": ".py",
   "mimetype": "text/x-python",
   "name": "python",
   "nbconvert_exporter": "python",
   "pygments_lexer": "ipython3",
   "version": "3.9.5"
  },
  "orig_nbformat": 4
 },
 "nbformat": 4,
 "nbformat_minor": 2
}
